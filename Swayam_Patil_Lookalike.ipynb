{
 "cells": [
  {
   "cell_type": "markdown",
   "id": "b9ceaf00",
   "metadata": {
    "papermill": {
     "duration": 0.007499,
     "end_time": "2025-01-27T16:30:01.420846",
     "exception": false,
     "start_time": "2025-01-27T16:30:01.413347",
     "status": "completed"
    },
    "tags": []
   },
   "source": [
    "# My Approach"
   ]
  },
  {
   "cell_type": "markdown",
   "id": "19f58fee",
   "metadata": {
    "papermill": {
     "duration": 0.005126,
     "end_time": "2025-01-27T16:30:01.431677",
     "exception": false,
     "start_time": "2025-01-27T16:30:01.426551",
     "status": "completed"
    },
    "tags": []
   },
   "source": [
    "Here's a explanation of my approach:\n",
    "\n",
    "1. Main Idea:\n",
    "- We find similar customers based on their shopping behavior\n",
    "- Uses buying patterns, amount spent, and type of products bought\n",
    "- Gives each customer 3 most similar other customers\n",
    "\n",
    "2. Feature Creation:\n",
    "- Make special shopping patterns for each customer:\n",
    "  * How much they spend (total and average)\n",
    "  * How many items they buy\n",
    "  * How often they shop\n",
    "  * What kind of products they like\n",
    "\n",
    "3. Similarity Method:\n",
    "- Convert customer shopping patterns into numbers (matrices)\n",
    "- Use 3 different ways to compare customers:\n",
    "  * Based on money spent on products\n",
    "  * Based on how often they buy products\n",
    "  * Based on what categories they like\n",
    "- Combine these comparisons with different importance (weights)\n",
    "\n",
    "4. Technical Steps:\n",
    "- I'll use SVD to handle lots of products\n",
    "- Scale numbers so rich customers don't overshadow others (Z-score)\n",
    "- Calculate how similar each customer is to others\n",
    "- Pick top 3 most similar customers for first 20 customers"
   ]
  },
  {
   "cell_type": "markdown",
   "id": "20d6cc51",
   "metadata": {
    "papermill": {
     "duration": 0.005114,
     "end_time": "2025-01-27T16:30:01.442164",
     "exception": false,
     "start_time": "2025-01-27T16:30:01.437050",
     "status": "completed"
    },
    "tags": []
   },
   "source": [
    "# Importing Packages "
   ]
  },
  {
   "cell_type": "code",
   "execution_count": 1,
   "id": "9020922c",
   "metadata": {
    "_cell_guid": "b1076dfc-b9ad-4769-8c92-a6c4dae69d19",
    "_uuid": "8f2839f25d086af736a60e9eeb907d3b93b6e0e5",
    "execution": {
     "iopub.execute_input": "2025-01-27T16:30:01.454419Z",
     "iopub.status.busy": "2025-01-27T16:30:01.454063Z",
     "iopub.status.idle": "2025-01-27T16:30:04.256257Z",
     "shell.execute_reply": "2025-01-27T16:30:04.255435Z"
    },
    "papermill": {
     "duration": 2.810331,
     "end_time": "2025-01-27T16:30:04.257982",
     "exception": false,
     "start_time": "2025-01-27T16:30:01.447651",
     "status": "completed"
    },
    "tags": []
   },
   "outputs": [],
   "source": [
    "import pandas as pd\n",
    "import numpy as np\n",
    "from sklearn.metrics.pairwise import cosine_similarity\n",
    "from sklearn.decomposition import TruncatedSVD\n",
    "from sklearn.preprocessing import StandardScaler\n",
    "from datetime import datetime"
   ]
  },
  {
   "cell_type": "markdown",
   "id": "a71619db",
   "metadata": {
    "papermill": {
     "duration": 0.005577,
     "end_time": "2025-01-27T16:30:04.269611",
     "exception": false,
     "start_time": "2025-01-27T16:30:04.264034",
     "status": "completed"
    },
    "tags": []
   },
   "source": [
    "# Load data\n"
   ]
  },
  {
   "cell_type": "code",
   "execution_count": 2,
   "id": "70d3b440",
   "metadata": {
    "execution": {
     "iopub.execute_input": "2025-01-27T16:30:04.281756Z",
     "iopub.status.busy": "2025-01-27T16:30:04.281260Z",
     "iopub.status.idle": "2025-01-27T16:30:04.319968Z",
     "shell.execute_reply": "2025-01-27T16:30:04.318977Z"
    },
    "papermill": {
     "duration": 0.046687,
     "end_time": "2025-01-27T16:30:04.321732",
     "exception": false,
     "start_time": "2025-01-27T16:30:04.275045",
     "status": "completed"
    },
    "tags": []
   },
   "outputs": [],
   "source": [
    "customers = pd.read_csv('/kaggle/input/e-comm-data/Data/Customers.csv')\n",
    "products = pd.read_csv('/kaggle/input/e-comm-data/Data/Products.csv')\n",
    "transactions = pd.read_csv('/kaggle/input/e-comm-data/Data/Transactions.csv')"
   ]
  },
  {
   "cell_type": "code",
   "execution_count": 3,
   "id": "d0bdfbc2",
   "metadata": {
    "execution": {
     "iopub.execute_input": "2025-01-27T16:30:04.334451Z",
     "iopub.status.busy": "2025-01-27T16:30:04.334143Z",
     "iopub.status.idle": "2025-01-27T16:30:04.348652Z",
     "shell.execute_reply": "2025-01-27T16:30:04.347648Z"
    },
    "papermill": {
     "duration": 0.022676,
     "end_time": "2025-01-27T16:30:04.350398",
     "exception": false,
     "start_time": "2025-01-27T16:30:04.327722",
     "status": "completed"
    },
    "tags": []
   },
   "outputs": [],
   "source": [
    "transactions['TransactionDate'] = pd.to_datetime(transactions['TransactionDate'])"
   ]
  },
  {
   "cell_type": "markdown",
   "id": "fe338e4f",
   "metadata": {
    "papermill": {
     "duration": 0.005264,
     "end_time": "2025-01-27T16:30:04.361522",
     "exception": false,
     "start_time": "2025-01-27T16:30:04.356258",
     "status": "completed"
    },
    "tags": []
   },
   "source": [
    "# Data Preprocessing"
   ]
  },
  {
   "cell_type": "markdown",
   "id": "ddbaf9e0",
   "metadata": {
    "papermill": {
     "duration": 0.005267,
     "end_time": "2025-01-27T16:30:04.372214",
     "exception": false,
     "start_time": "2025-01-27T16:30:04.366947",
     "status": "completed"
    },
    "tags": []
   },
   "source": [
    "> Calculating recency and add to transactions"
   ]
  },
  {
   "cell_type": "code",
   "execution_count": 4,
   "id": "d1ded90b",
   "metadata": {
    "execution": {
     "iopub.execute_input": "2025-01-27T16:30:04.384348Z",
     "iopub.status.busy": "2025-01-27T16:30:04.383991Z",
     "iopub.status.idle": "2025-01-27T16:30:04.394202Z",
     "shell.execute_reply": "2025-01-27T16:30:04.393175Z"
    },
    "papermill": {
     "duration": 0.018223,
     "end_time": "2025-01-27T16:30:04.395834",
     "exception": false,
     "start_time": "2025-01-27T16:30:04.377611",
     "status": "completed"
    },
    "tags": []
   },
   "outputs": [],
   "source": [
    "transactions['Recency'] = (datetime.now() - transactions['TransactionDate']).dt.days\n",
    "transactions['Recency'] = (transactions['Recency'] + 1).astype(int)"
   ]
  },
  {
   "cell_type": "code",
   "execution_count": 5,
   "id": "ddf6fb93",
   "metadata": {
    "execution": {
     "iopub.execute_input": "2025-01-27T16:30:04.408266Z",
     "iopub.status.busy": "2025-01-27T16:30:04.407942Z",
     "iopub.status.idle": "2025-01-27T16:30:04.433816Z",
     "shell.execute_reply": "2025-01-27T16:30:04.432804Z"
    },
    "papermill": {
     "duration": 0.033824,
     "end_time": "2025-01-27T16:30:04.435389",
     "exception": false,
     "start_time": "2025-01-27T16:30:04.401565",
     "status": "completed"
    },
    "tags": []
   },
   "outputs": [],
   "source": [
    "data = transactions.merge(customers[['CustomerID', 'Region']], on='CustomerID')\n",
    "data = data.merge(products[['ProductID', 'Category']], on='ProductID')"
   ]
  },
  {
   "cell_type": "markdown",
   "id": "f1174017",
   "metadata": {
    "papermill": {
     "duration": 0.005421,
     "end_time": "2025-01-27T16:30:04.446462",
     "exception": false,
     "start_time": "2025-01-27T16:30:04.441041",
     "status": "completed"
    },
    "tags": []
   },
   "source": [
    "# Feature Engineering"
   ]
  },
  {
   "cell_type": "markdown",
   "id": "65749289",
   "metadata": {
    "papermill": {
     "duration": 0.005195,
     "end_time": "2025-01-27T16:30:04.457180",
     "exception": false,
     "start_time": "2025-01-27T16:30:04.451985",
     "status": "completed"
    },
    "tags": []
   },
   "source": [
    "> Creating customer-product interaction matrix"
   ]
  },
  {
   "cell_type": "code",
   "execution_count": 6,
   "id": "cd1f39b3",
   "metadata": {
    "execution": {
     "iopub.execute_input": "2025-01-27T16:30:04.469545Z",
     "iopub.status.busy": "2025-01-27T16:30:04.469183Z",
     "iopub.status.idle": "2025-01-27T16:30:04.522701Z",
     "shell.execute_reply": "2025-01-27T16:30:04.521781Z"
    },
    "papermill": {
     "duration": 0.061695,
     "end_time": "2025-01-27T16:30:04.524496",
     "exception": false,
     "start_time": "2025-01-27T16:30:04.462801",
     "status": "completed"
    },
    "tags": []
   },
   "outputs": [],
   "source": [
    "customer_features = data.groupby('CustomerID').agg({\n",
    "    'TotalValue': ['sum', 'mean', 'std'],\n",
    "    'Quantity': ['sum', 'mean'],\n",
    "    'TransactionDate': ['count', lambda x: (x.max() - x.min()).days],\n",
    "    'ProductID': 'nunique'\n",
    "}).fillna(0)\n"
   ]
  },
  {
   "cell_type": "code",
   "execution_count": 7,
   "id": "45dbd63e",
   "metadata": {
    "execution": {
     "iopub.execute_input": "2025-01-27T16:30:04.537302Z",
     "iopub.status.busy": "2025-01-27T16:30:04.536966Z",
     "iopub.status.idle": "2025-01-27T16:30:04.541286Z",
     "shell.execute_reply": "2025-01-27T16:30:04.540312Z"
    },
    "papermill": {
     "duration": 0.012463,
     "end_time": "2025-01-27T16:30:04.542738",
     "exception": false,
     "start_time": "2025-01-27T16:30:04.530275",
     "status": "completed"
    },
    "tags": []
   },
   "outputs": [],
   "source": [
    "customer_features.columns = ['total_spend', 'avg_spend', 'std_spend', \n",
    "                           'total_quantity', 'avg_quantity',\n",
    "                           'transaction_count', 'purchase_span', 'unique_products']"
   ]
  },
  {
   "cell_type": "code",
   "execution_count": 8,
   "id": "91c1ba87",
   "metadata": {
    "execution": {
     "iopub.execute_input": "2025-01-27T16:30:04.555116Z",
     "iopub.status.busy": "2025-01-27T16:30:04.554783Z",
     "iopub.status.idle": "2025-01-27T16:30:04.578524Z",
     "shell.execute_reply": "2025-01-27T16:30:04.577461Z"
    },
    "papermill": {
     "duration": 0.031881,
     "end_time": "2025-01-27T16:30:04.580310",
     "exception": false,
     "start_time": "2025-01-27T16:30:04.548429",
     "status": "completed"
    },
    "tags": []
   },
   "outputs": [],
   "source": [
    "value_matrix = data.pivot_table(\n",
    "    index='CustomerID',\n",
    "    columns='ProductID',\n",
    "    values='TotalValue',\n",
    "    aggfunc='sum',\n",
    "    fill_value=0\n",
    ")"
   ]
  },
  {
   "cell_type": "code",
   "execution_count": 9,
   "id": "9a41bdc2",
   "metadata": {
    "execution": {
     "iopub.execute_input": "2025-01-27T16:30:04.592986Z",
     "iopub.status.busy": "2025-01-27T16:30:04.592663Z",
     "iopub.status.idle": "2025-01-27T16:30:04.604851Z",
     "shell.execute_reply": "2025-01-27T16:30:04.603842Z"
    },
    "papermill": {
     "duration": 0.020391,
     "end_time": "2025-01-27T16:30:04.606662",
     "exception": false,
     "start_time": "2025-01-27T16:30:04.586271",
     "status": "completed"
    },
    "tags": []
   },
   "outputs": [],
   "source": [
    "freq_matrix = data.pivot_table(\n",
    "    index='CustomerID',\n",
    "    columns='ProductID',\n",
    "    values='Quantity',\n",
    "    aggfunc='count',\n",
    "    fill_value=0\n",
    ")"
   ]
  },
  {
   "cell_type": "code",
   "execution_count": 10,
   "id": "d7110181",
   "metadata": {
    "execution": {
     "iopub.execute_input": "2025-01-27T16:30:04.619342Z",
     "iopub.status.busy": "2025-01-27T16:30:04.619003Z",
     "iopub.status.idle": "2025-01-27T16:30:04.629813Z",
     "shell.execute_reply": "2025-01-27T16:30:04.628968Z"
    },
    "papermill": {
     "duration": 0.019073,
     "end_time": "2025-01-27T16:30:04.631408",
     "exception": false,
     "start_time": "2025-01-27T16:30:04.612335",
     "status": "completed"
    },
    "tags": []
   },
   "outputs": [],
   "source": [
    "cat_matrix = data.pivot_table(\n",
    "    index='CustomerID',\n",
    "    columns='Category',\n",
    "    values='TotalValue',\n",
    "    aggfunc='sum',\n",
    "    fill_value=0\n",
    ")"
   ]
  },
  {
   "cell_type": "markdown",
   "id": "4f036ff2",
   "metadata": {
    "papermill": {
     "duration": 0.005461,
     "end_time": "2025-01-27T16:30:04.642777",
     "exception": false,
     "start_time": "2025-01-27T16:30:04.637316",
     "status": "completed"
    },
    "tags": []
   },
   "source": [
    "# SVD decomposition\n"
   ]
  },
  {
   "cell_type": "code",
   "execution_count": 11,
   "id": "59fce493",
   "metadata": {
    "execution": {
     "iopub.execute_input": "2025-01-27T16:30:04.654992Z",
     "iopub.status.busy": "2025-01-27T16:30:04.654554Z",
     "iopub.status.idle": "2025-01-27T16:30:04.659287Z",
     "shell.execute_reply": "2025-01-27T16:30:04.658299Z"
    },
    "papermill": {
     "duration": 0.012518,
     "end_time": "2025-01-27T16:30:04.660800",
     "exception": false,
     "start_time": "2025-01-27T16:30:04.648282",
     "status": "completed"
    },
    "tags": []
   },
   "outputs": [],
   "source": [
    "n_components_value = min(20, value_matrix.shape[1] - 1)\n",
    "n_components_freq = min(20, freq_matrix.shape[1] - 1)\n",
    "n_components_cat = min(3, cat_matrix.shape[1] - 1)"
   ]
  },
  {
   "cell_type": "code",
   "execution_count": 12,
   "id": "08b4f8f4",
   "metadata": {
    "execution": {
     "iopub.execute_input": "2025-01-27T16:30:04.673344Z",
     "iopub.status.busy": "2025-01-27T16:30:04.672977Z",
     "iopub.status.idle": "2025-01-27T16:30:04.677565Z",
     "shell.execute_reply": "2025-01-27T16:30:04.676615Z"
    },
    "papermill": {
     "duration": 0.01281,
     "end_time": "2025-01-27T16:30:04.679170",
     "exception": false,
     "start_time": "2025-01-27T16:30:04.666360",
     "status": "completed"
    },
    "tags": []
   },
   "outputs": [],
   "source": [
    "svd_value = TruncatedSVD(n_components=n_components_value, random_state=42)\n",
    "svd_freq = TruncatedSVD(n_components=n_components_freq, random_state=42)\n",
    "svd_cat = TruncatedSVD(n_components=n_components_cat, random_state=42)"
   ]
  },
  {
   "cell_type": "code",
   "execution_count": 13,
   "id": "516a7767",
   "metadata": {
    "execution": {
     "iopub.execute_input": "2025-01-27T16:30:04.691403Z",
     "iopub.status.busy": "2025-01-27T16:30:04.691074Z",
     "iopub.status.idle": "2025-01-27T16:30:04.791297Z",
     "shell.execute_reply": "2025-01-27T16:30:04.790232Z"
    },
    "papermill": {
     "duration": 0.108413,
     "end_time": "2025-01-27T16:30:04.793203",
     "exception": false,
     "start_time": "2025-01-27T16:30:04.684790",
     "status": "completed"
    },
    "tags": []
   },
   "outputs": [],
   "source": [
    "latent_value = svd_value.fit_transform(value_matrix)\n",
    "latent_freq = svd_freq.fit_transform(freq_matrix)\n",
    "latent_cat = svd_cat.fit_transform(cat_matrix)"
   ]
  },
  {
   "cell_type": "markdown",
   "id": "4bede4c3",
   "metadata": {
    "papermill": {
     "duration": 0.005243,
     "end_time": "2025-01-27T16:30:04.805703",
     "exception": false,
     "start_time": "2025-01-27T16:30:04.800460",
     "status": "completed"
    },
    "tags": []
   },
   "source": [
    "# Scale features"
   ]
  },
  {
   "cell_type": "code",
   "execution_count": 14,
   "id": "7919edf6",
   "metadata": {
    "execution": {
     "iopub.execute_input": "2025-01-27T16:30:04.818078Z",
     "iopub.status.busy": "2025-01-27T16:30:04.817711Z",
     "iopub.status.idle": "2025-01-27T16:30:04.825677Z",
     "shell.execute_reply": "2025-01-27T16:30:04.824884Z"
    },
    "papermill": {
     "duration": 0.016207,
     "end_time": "2025-01-27T16:30:04.827248",
     "exception": false,
     "start_time": "2025-01-27T16:30:04.811041",
     "status": "completed"
    },
    "tags": []
   },
   "outputs": [],
   "source": [
    "scaler = StandardScaler()\n",
    "scaled_features = scaler.fit_transform(customer_features)"
   ]
  },
  {
   "cell_type": "markdown",
   "id": "157e3646",
   "metadata": {
    "papermill": {
     "duration": 0.005113,
     "end_time": "2025-01-27T16:30:04.837984",
     "exception": false,
     "start_time": "2025-01-27T16:30:04.832871",
     "status": "completed"
    },
    "tags": []
   },
   "source": [
    "# Calculate similarities"
   ]
  },
  {
   "cell_type": "code",
   "execution_count": 15,
   "id": "9ccdf89f",
   "metadata": {
    "execution": {
     "iopub.execute_input": "2025-01-27T16:30:04.850100Z",
     "iopub.status.busy": "2025-01-27T16:30:04.849766Z",
     "iopub.status.idle": "2025-01-27T16:30:04.857406Z",
     "shell.execute_reply": "2025-01-27T16:30:04.856633Z"
    },
    "papermill": {
     "duration": 0.015664,
     "end_time": "2025-01-27T16:30:04.859108",
     "exception": false,
     "start_time": "2025-01-27T16:30:04.843444",
     "status": "completed"
    },
    "tags": []
   },
   "outputs": [],
   "source": [
    "sim_value = cosine_similarity(latent_value)\n",
    "sim_freq = cosine_similarity(latent_freq)\n",
    "sim_cat = cosine_similarity(latent_cat)\n",
    "sim_features = cosine_similarity(scaled_features)"
   ]
  },
  {
   "cell_type": "code",
   "execution_count": 16,
   "id": "f610bf15",
   "metadata": {
    "execution": {
     "iopub.execute_input": "2025-01-27T16:30:04.871391Z",
     "iopub.status.busy": "2025-01-27T16:30:04.871061Z",
     "iopub.status.idle": "2025-01-27T16:30:04.880390Z",
     "shell.execute_reply": "2025-01-27T16:30:04.879355Z"
    },
    "papermill": {
     "duration": 0.017278,
     "end_time": "2025-01-27T16:30:04.882086",
     "exception": false,
     "start_time": "2025-01-27T16:30:04.864808",
     "status": "completed"
    },
    "tags": []
   },
   "outputs": [],
   "source": [
    "# Combine similarities with weights\n",
    "weights = np.array([0.35, 0.25, 0.25, 0.15])\n",
    "similarity = (weights[0] * sim_value + \n",
    "             weights[1] * sim_freq + \n",
    "             weights[2] * sim_cat + \n",
    "             weights[3] * sim_features)"
   ]
  },
  {
   "cell_type": "markdown",
   "id": "c629bfca",
   "metadata": {
    "papermill": {
     "duration": 0.005296,
     "end_time": "2025-01-27T16:30:04.892966",
     "exception": false,
     "start_time": "2025-01-27T16:30:04.887670",
     "status": "completed"
    },
    "tags": []
   },
   "source": [
    "# Generate recommendations\n"
   ]
  },
  {
   "cell_type": "code",
   "execution_count": 17,
   "id": "c3ab9d11",
   "metadata": {
    "execution": {
     "iopub.execute_input": "2025-01-27T16:30:04.905211Z",
     "iopub.status.busy": "2025-01-27T16:30:04.904819Z",
     "iopub.status.idle": "2025-01-27T16:30:04.911185Z",
     "shell.execute_reply": "2025-01-27T16:30:04.910413Z"
    },
    "papermill": {
     "duration": 0.014363,
     "end_time": "2025-01-27T16:30:04.912839",
     "exception": false,
     "start_time": "2025-01-27T16:30:04.898476",
     "status": "completed"
    },
    "tags": []
   },
   "outputs": [],
   "source": [
    "results = {}\n",
    "for i, customer_id in enumerate(value_matrix.index[:20]):\n",
    "    scores = np.argsort(similarity[i])[::-1]\n",
    "    similar_customers = [\n",
    "        (value_matrix.index[j], round(similarity[i, j], 4))\n",
    "        for j in scores[1:4]\n",
    "    ]\n",
    "    results[customer_id] = similar_customers"
   ]
  },
  {
   "cell_type": "markdown",
   "id": "2a1bcf67",
   "metadata": {
    "papermill": {
     "duration": 0.005227,
     "end_time": "2025-01-27T16:30:04.923759",
     "exception": false,
     "start_time": "2025-01-27T16:30:04.918532",
     "status": "completed"
    },
    "tags": []
   },
   "source": [
    "# Save results"
   ]
  },
  {
   "cell_type": "code",
   "execution_count": 18,
   "id": "37e16ee8",
   "metadata": {
    "execution": {
     "iopub.execute_input": "2025-01-27T16:30:04.935440Z",
     "iopub.status.busy": "2025-01-27T16:30:04.935139Z",
     "iopub.status.idle": "2025-01-27T16:30:04.945475Z",
     "shell.execute_reply": "2025-01-27T16:30:04.944688Z"
    },
    "papermill": {
     "duration": 0.018101,
     "end_time": "2025-01-27T16:30:04.947125",
     "exception": false,
     "start_time": "2025-01-27T16:30:04.929024",
     "status": "completed"
    },
    "tags": []
   },
   "outputs": [],
   "source": [
    "output_df = pd.DataFrame({'CustomerID': list(results.keys()),'Lookalikes': [str(v) for v in results.values()]})\n",
    "output_df.to_csv('Swayam_Patil_Lookalike.csv', index=False)"
   ]
  },
  {
   "cell_type": "code",
   "execution_count": 19,
   "id": "211d7d88",
   "metadata": {
    "execution": {
     "iopub.execute_input": "2025-01-27T16:30:04.959322Z",
     "iopub.status.busy": "2025-01-27T16:30:04.959006Z",
     "iopub.status.idle": "2025-01-27T16:30:04.974827Z",
     "shell.execute_reply": "2025-01-27T16:30:04.973757Z"
    },
    "papermill": {
     "duration": 0.024091,
     "end_time": "2025-01-27T16:30:04.976937",
     "exception": false,
     "start_time": "2025-01-27T16:30:04.952846",
     "status": "completed"
    },
    "tags": []
   },
   "outputs": [
    {
     "name": "stdout",
     "output_type": "stream",
     "text": [
      "\n",
      "Customer C0001:\n",
      "  Similar customer: C0069, Score: 0.6895\n",
      "  Similar customer: C0105, Score: 0.6723\n",
      "  Similar customer: C0050, Score: 0.6069\n",
      "\n",
      "Customer C0002:\n",
      "  Similar customer: C0109, Score: 0.7196\n",
      "  Similar customer: C0076, Score: 0.6866\n",
      "  Similar customer: C0178, Score: 0.6692\n",
      "\n",
      "Customer C0003:\n",
      "  Similar customer: C0031, Score: 0.6686\n",
      "  Similar customer: C0144, Score: 0.6324\n",
      "  Similar customer: C0181, Score: 0.623\n",
      "\n",
      "Customer C0004:\n",
      "  Similar customer: C0075, Score: 0.7101\n",
      "  Similar customer: C0041, Score: 0.6577\n",
      "  Similar customer: C0053, Score: 0.6542\n",
      "\n",
      "Customer C0005:\n",
      "  Similar customer: C0192, Score: 0.837\n",
      "  Similar customer: C0088, Score: 0.768\n",
      "  Similar customer: C0072, Score: 0.7376\n",
      "\n",
      "Customer C0006:\n",
      "  Similar customer: C0040, Score: 0.7667\n",
      "  Similar customer: C0182, Score: 0.7275\n",
      "  Similar customer: C0057, Score: 0.6157\n",
      "\n",
      "Customer C0007:\n",
      "  Similar customer: C0020, Score: 0.7289\n",
      "  Similar customer: C0140, Score: 0.7138\n",
      "  Similar customer: C0085, Score: 0.6769\n",
      "\n",
      "Customer C0008:\n",
      "  Similar customer: C0143, Score: 0.7222\n",
      "  Similar customer: C0103, Score: 0.6409\n",
      "  Similar customer: C0059, Score: 0.5811\n",
      "\n",
      "Customer C0009:\n",
      "  Similar customer: C0129, Score: 0.7145\n",
      "  Similar customer: C0062, Score: 0.714\n",
      "  Similar customer: C0098, Score: 0.7104\n",
      "\n",
      "Customer C0010:\n",
      "  Similar customer: C0029, Score: 0.781\n",
      "  Similar customer: C0092, Score: 0.7242\n",
      "  Similar customer: C0083, Score: 0.7087\n",
      "\n",
      "Customer C0011:\n",
      "  Similar customer: C0169, Score: 0.7485\n",
      "  Similar customer: C0137, Score: 0.7136\n",
      "  Similar customer: C0136, Score: 0.7025\n",
      "\n",
      "Customer C0012:\n",
      "  Similar customer: C0173, Score: 0.7622\n",
      "  Similar customer: C0091, Score: 0.7112\n",
      "  Similar customer: C0164, Score: 0.6804\n",
      "\n",
      "Customer C0013:\n",
      "  Similar customer: C0169, Score: 0.7145\n",
      "  Similar customer: C0046, Score: 0.6915\n",
      "  Similar customer: C0067, Score: 0.6195\n",
      "\n",
      "Customer C0014:\n",
      "  Similar customer: C0106, Score: 0.778\n",
      "  Similar customer: C0128, Score: 0.6697\n",
      "  Similar customer: C0195, Score: 0.6281\n",
      "\n",
      "Customer C0015:\n",
      "  Similar customer: C0127, Score: 0.6138\n",
      "  Similar customer: C0146, Score: 0.5993\n",
      "  Similar customer: C0121, Score: 0.5902\n",
      "\n",
      "Customer C0016:\n",
      "  Similar customer: C0187, Score: 0.678\n",
      "  Similar customer: C0052, Score: 0.6196\n",
      "  Similar customer: C0064, Score: 0.5762\n",
      "\n",
      "Customer C0017:\n",
      "  Similar customer: C0028, Score: 0.6696\n",
      "  Similar customer: C0024, Score: 0.6412\n",
      "  Similar customer: C0087, Score: 0.6321\n",
      "\n",
      "Customer C0018:\n",
      "  Similar customer: C0026, Score: 0.609\n",
      "  Similar customer: C0114, Score: 0.5633\n",
      "  Similar customer: C0163, Score: 0.5548\n",
      "\n",
      "Customer C0019:\n",
      "  Similar customer: C0139, Score: 0.6113\n",
      "  Similar customer: C0084, Score: 0.5723\n",
      "  Similar customer: C0064, Score: 0.5593\n",
      "\n",
      "Customer C0020:\n",
      "  Similar customer: C0026, Score: 0.8044\n",
      "  Similar customer: C0007, Score: 0.7289\n",
      "  Similar customer: C0119, Score: 0.639\n"
     ]
    }
   ],
   "source": [
    "for cust_id, lookalikes in list(results.items())[:]:\n",
    "    print(f\"\\nCustomer {cust_id}:\")\n",
    "    for similar_cust, score in lookalikes:\n",
    "        print(f\"  Similar customer: {similar_cust}, Score: {score}\")"
   ]
  },
  {
   "cell_type": "code",
   "execution_count": null,
   "id": "8e3a77d5",
   "metadata": {
    "papermill": {
     "duration": 0.005541,
     "end_time": "2025-01-27T16:30:04.988481",
     "exception": false,
     "start_time": "2025-01-27T16:30:04.982940",
     "status": "completed"
    },
    "tags": []
   },
   "outputs": [],
   "source": []
  }
 ],
 "metadata": {
  "kaggle": {
   "accelerator": "none",
   "dataSources": [
    {
     "datasetId": 6557486,
     "sourceId": 10594673,
     "sourceType": "datasetVersion"
    }
   ],
   "dockerImageVersionId": 30839,
   "isGpuEnabled": false,
   "isInternetEnabled": true,
   "language": "python",
   "sourceType": "notebook"
  },
  "kernelspec": {
   "display_name": "Python 3",
   "language": "python",
   "name": "python3"
  },
  "language_info": {
   "codemirror_mode": {
    "name": "ipython",
    "version": 3
   },
   "file_extension": ".py",
   "mimetype": "text/x-python",
   "name": "python",
   "nbconvert_exporter": "python",
   "pygments_lexer": "ipython3",
   "version": "3.10.12"
  },
  "papermill": {
   "default_parameters": {},
   "duration": 7.083032,
   "end_time": "2025-01-27T16:30:05.714587",
   "environment_variables": {},
   "exception": null,
   "input_path": "__notebook__.ipynb",
   "output_path": "__notebook__.ipynb",
   "parameters": {},
   "start_time": "2025-01-27T16:29:58.631555",
   "version": "2.6.0"
  }
 },
 "nbformat": 4,
 "nbformat_minor": 5
}
