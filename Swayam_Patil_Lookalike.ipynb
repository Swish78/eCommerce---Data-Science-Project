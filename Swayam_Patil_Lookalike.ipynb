{
 "cells": [
  {
   "cell_type": "markdown",
   "id": "3edacb79",
   "metadata": {
    "papermill": {
     "duration": 0.008206,
     "end_time": "2025-01-27T16:29:19.792154",
     "exception": false,
     "start_time": "2025-01-27T16:29:19.783948",
     "status": "completed"
    },
    "tags": []
   },
   "source": [
    "# My Approach"
   ]
  },
  {
   "cell_type": "markdown",
   "id": "5bd315ec",
   "metadata": {
    "papermill": {
     "duration": 0.005943,
     "end_time": "2025-01-27T16:29:19.804675",
     "exception": false,
     "start_time": "2025-01-27T16:29:19.798732",
     "status": "completed"
    },
    "tags": []
   },
   "source": [
    "Here's a explanation of my approach:\n",
    "\n",
    "1. Main Idea:\n",
    "- We find similar customers based on their shopping behavior\n",
    "- Uses buying patterns, amount spent, and type of products bought\n",
    "- Gives each customer 3 most similar other customers\n",
    "\n",
    "2. Feature Creation:\n",
    "- Make special shopping patterns for each customer:\n",
    "  * How much they spend (total and average)\n",
    "  * How many items they buy\n",
    "  * How often they shop\n",
    "  * What kind of products they like\n",
    "\n",
    "3. Similarity Method:\n",
    "- Convert customer shopping patterns into numbers (matrices)\n",
    "- Use 3 different ways to compare customers:\n",
    "  * Based on money spent on products\n",
    "  * Based on how often they buy products\n",
    "  * Based on what categories they like\n",
    "- Combine these comparisons with different importance (weights)\n",
    "\n",
    "4. Technical Steps:\n",
    "- I'll use SVD to handle lots of products\n",
    "- Scale numbers so rich customers don't overshadow others (Z-score)\n",
    "- Calculate how similar each customer is to others\n",
    "- Pick top 3 most similar customers for first 20 customers"
   ]
  },
  {
   "cell_type": "markdown",
   "id": "1be0a7fc",
   "metadata": {
    "papermill": {
     "duration": 0.005865,
     "end_time": "2025-01-27T16:29:19.816895",
     "exception": false,
     "start_time": "2025-01-27T16:29:19.811030",
     "status": "completed"
    },
    "tags": []
   },
   "source": [
    "# Importing Packages "
   ]
  },
  {
   "cell_type": "code",
   "execution_count": 1,
   "id": "87daecdb",
   "metadata": {
    "_cell_guid": "b1076dfc-b9ad-4769-8c92-a6c4dae69d19",
    "_uuid": "8f2839f25d086af736a60e9eeb907d3b93b6e0e5",
    "execution": {
     "iopub.execute_input": "2025-01-27T16:29:19.831142Z",
     "iopub.status.busy": "2025-01-27T16:29:19.830655Z",
     "iopub.status.idle": "2025-01-27T16:29:22.805148Z",
     "shell.execute_reply": "2025-01-27T16:29:22.803892Z"
    },
    "papermill": {
     "duration": 2.98403,
     "end_time": "2025-01-27T16:29:22.807212",
     "exception": false,
     "start_time": "2025-01-27T16:29:19.823182",
     "status": "completed"
    },
    "tags": []
   },
   "outputs": [],
   "source": [
    "import pandas as pd\n",
    "import numpy as np\n",
    "from sklearn.metrics.pairwise import cosine_similarity\n",
    "from sklearn.decomposition import TruncatedSVD\n",
    "from sklearn.preprocessing import StandardScaler\n",
    "from datetime import datetime"
   ]
  },
  {
   "cell_type": "markdown",
   "id": "385ebf97",
   "metadata": {
    "papermill": {
     "duration": 0.005986,
     "end_time": "2025-01-27T16:29:22.820034",
     "exception": false,
     "start_time": "2025-01-27T16:29:22.814048",
     "status": "completed"
    },
    "tags": []
   },
   "source": [
    "# Load data\n"
   ]
  },
  {
   "cell_type": "code",
   "execution_count": 2,
   "id": "d900945b",
   "metadata": {
    "execution": {
     "iopub.execute_input": "2025-01-27T16:29:22.834181Z",
     "iopub.status.busy": "2025-01-27T16:29:22.833648Z",
     "iopub.status.idle": "2025-01-27T16:29:22.868882Z",
     "shell.execute_reply": "2025-01-27T16:29:22.867716Z"
    },
    "papermill": {
     "duration": 0.044563,
     "end_time": "2025-01-27T16:29:22.870925",
     "exception": false,
     "start_time": "2025-01-27T16:29:22.826362",
     "status": "completed"
    },
    "tags": []
   },
   "outputs": [],
   "source": [
    "customers = pd.read_csv('/kaggle/input/e-comm-data/Data/Customers.csv')\n",
    "products = pd.read_csv('/kaggle/input/e-comm-data/Data/Products.csv')\n",
    "transactions = pd.read_csv('/kaggle/input/e-comm-data/Data/Transactions.csv')"
   ]
  },
  {
   "cell_type": "code",
   "execution_count": 3,
   "id": "88ece91e",
   "metadata": {
    "execution": {
     "iopub.execute_input": "2025-01-27T16:29:22.885327Z",
     "iopub.status.busy": "2025-01-27T16:29:22.884904Z",
     "iopub.status.idle": "2025-01-27T16:29:22.900759Z",
     "shell.execute_reply": "2025-01-27T16:29:22.899646Z"
    },
    "papermill": {
     "duration": 0.025096,
     "end_time": "2025-01-27T16:29:22.902679",
     "exception": false,
     "start_time": "2025-01-27T16:29:22.877583",
     "status": "completed"
    },
    "tags": []
   },
   "outputs": [],
   "source": [
    "transactions['TransactionDate'] = pd.to_datetime(transactions['TransactionDate'])"
   ]
  },
  {
   "cell_type": "markdown",
   "id": "d9c9609c",
   "metadata": {
    "papermill": {
     "duration": 0.005967,
     "end_time": "2025-01-27T16:29:22.915192",
     "exception": false,
     "start_time": "2025-01-27T16:29:22.909225",
     "status": "completed"
    },
    "tags": []
   },
   "source": [
    "# Data Preprocessing"
   ]
  },
  {
   "cell_type": "markdown",
   "id": "f46e742a",
   "metadata": {
    "papermill": {
     "duration": 0.005998,
     "end_time": "2025-01-27T16:29:22.927520",
     "exception": false,
     "start_time": "2025-01-27T16:29:22.921522",
     "status": "completed"
    },
    "tags": []
   },
   "source": [
    "> Calculating recency and add to transactions"
   ]
  },
  {
   "cell_type": "code",
   "execution_count": 4,
   "id": "2c93c40f",
   "metadata": {
    "execution": {
     "iopub.execute_input": "2025-01-27T16:29:22.941277Z",
     "iopub.status.busy": "2025-01-27T16:29:22.940924Z",
     "iopub.status.idle": "2025-01-27T16:29:22.951307Z",
     "shell.execute_reply": "2025-01-27T16:29:22.950047Z"
    },
    "papermill": {
     "duration": 0.019451,
     "end_time": "2025-01-27T16:29:22.953208",
     "exception": false,
     "start_time": "2025-01-27T16:29:22.933757",
     "status": "completed"
    },
    "tags": []
   },
   "outputs": [],
   "source": [
    "transactions['Recency'] = (datetime.now() - transactions['TransactionDate']).dt.days\n",
    "transactions['Recency'] = (transactions['Recency'] + 1).astype(int)"
   ]
  },
  {
   "cell_type": "code",
   "execution_count": 5,
   "id": "c02a464f",
   "metadata": {
    "execution": {
     "iopub.execute_input": "2025-01-27T16:29:22.967902Z",
     "iopub.status.busy": "2025-01-27T16:29:22.967522Z",
     "iopub.status.idle": "2025-01-27T16:29:22.993795Z",
     "shell.execute_reply": "2025-01-27T16:29:22.992331Z"
    },
    "papermill": {
     "duration": 0.03616,
     "end_time": "2025-01-27T16:29:22.996244",
     "exception": false,
     "start_time": "2025-01-27T16:29:22.960084",
     "status": "completed"
    },
    "tags": []
   },
   "outputs": [],
   "source": [
    "data = transactions.merge(customers[['CustomerID', 'Region']], on='CustomerID')\n",
    "data = data.merge(products[['ProductID', 'Category']], on='ProductID')"
   ]
  },
  {
   "cell_type": "markdown",
   "id": "25348e0e",
   "metadata": {
    "papermill": {
     "duration": 0.00847,
     "end_time": "2025-01-27T16:29:23.013153",
     "exception": false,
     "start_time": "2025-01-27T16:29:23.004683",
     "status": "completed"
    },
    "tags": []
   },
   "source": [
    "# Feature Engineering"
   ]
  },
  {
   "cell_type": "markdown",
   "id": "97f6d3b6",
   "metadata": {
    "papermill": {
     "duration": 0.007918,
     "end_time": "2025-01-27T16:29:23.028862",
     "exception": false,
     "start_time": "2025-01-27T16:29:23.020944",
     "status": "completed"
    },
    "tags": []
   },
   "source": [
    "> Creating customer-product interaction matrix"
   ]
  },
  {
   "cell_type": "code",
   "execution_count": 6,
   "id": "8afdd06f",
   "metadata": {
    "execution": {
     "iopub.execute_input": "2025-01-27T16:29:23.051762Z",
     "iopub.status.busy": "2025-01-27T16:29:23.051329Z",
     "iopub.status.idle": "2025-01-27T16:29:23.107745Z",
     "shell.execute_reply": "2025-01-27T16:29:23.106743Z"
    },
    "papermill": {
     "duration": 0.070089,
     "end_time": "2025-01-27T16:29:23.109733",
     "exception": false,
     "start_time": "2025-01-27T16:29:23.039644",
     "status": "completed"
    },
    "tags": []
   },
   "outputs": [],
   "source": [
    "customer_features = data.groupby('CustomerID').agg({\n",
    "    'TotalValue': ['sum', 'mean', 'std'],\n",
    "    'Quantity': ['sum', 'mean'],\n",
    "    'TransactionDate': ['count', lambda x: (x.max() - x.min()).days],\n",
    "    'ProductID': 'nunique'\n",
    "}).fillna(0)\n"
   ]
  },
  {
   "cell_type": "code",
   "execution_count": 7,
   "id": "c5a2ebef",
   "metadata": {
    "execution": {
     "iopub.execute_input": "2025-01-27T16:29:23.124008Z",
     "iopub.status.busy": "2025-01-27T16:29:23.123624Z",
     "iopub.status.idle": "2025-01-27T16:29:23.128748Z",
     "shell.execute_reply": "2025-01-27T16:29:23.127450Z"
    },
    "papermill": {
     "duration": 0.014664,
     "end_time": "2025-01-27T16:29:23.130879",
     "exception": false,
     "start_time": "2025-01-27T16:29:23.116215",
     "status": "completed"
    },
    "tags": []
   },
   "outputs": [],
   "source": [
    "customer_features.columns = ['total_spend', 'avg_spend', 'std_spend', \n",
    "                           'total_quantity', 'avg_quantity',\n",
    "                           'transaction_count', 'purchase_span', 'unique_products']"
   ]
  },
  {
   "cell_type": "code",
   "execution_count": 8,
   "id": "17c2afb7",
   "metadata": {
    "execution": {
     "iopub.execute_input": "2025-01-27T16:29:23.145467Z",
     "iopub.status.busy": "2025-01-27T16:29:23.144985Z",
     "iopub.status.idle": "2025-01-27T16:29:23.173105Z",
     "shell.execute_reply": "2025-01-27T16:29:23.172048Z"
    },
    "papermill": {
     "duration": 0.037598,
     "end_time": "2025-01-27T16:29:23.175074",
     "exception": false,
     "start_time": "2025-01-27T16:29:23.137476",
     "status": "completed"
    },
    "tags": []
   },
   "outputs": [],
   "source": [
    "value_matrix = data.pivot_table(\n",
    "    index='CustomerID',\n",
    "    columns='ProductID',\n",
    "    values='TotalValue',\n",
    "    aggfunc='sum',\n",
    "    fill_value=0\n",
    ")"
   ]
  },
  {
   "cell_type": "code",
   "execution_count": 9,
   "id": "08c14cc5",
   "metadata": {
    "execution": {
     "iopub.execute_input": "2025-01-27T16:29:23.189318Z",
     "iopub.status.busy": "2025-01-27T16:29:23.188942Z",
     "iopub.status.idle": "2025-01-27T16:29:23.202844Z",
     "shell.execute_reply": "2025-01-27T16:29:23.201743Z"
    },
    "papermill": {
     "duration": 0.023407,
     "end_time": "2025-01-27T16:29:23.204982",
     "exception": false,
     "start_time": "2025-01-27T16:29:23.181575",
     "status": "completed"
    },
    "tags": []
   },
   "outputs": [],
   "source": [
    "freq_matrix = data.pivot_table(\n",
    "    index='CustomerID',\n",
    "    columns='ProductID',\n",
    "    values='Quantity',\n",
    "    aggfunc='count',\n",
    "    fill_value=0\n",
    ")"
   ]
  },
  {
   "cell_type": "code",
   "execution_count": 10,
   "id": "5f745b08",
   "metadata": {
    "execution": {
     "iopub.execute_input": "2025-01-27T16:29:23.218995Z",
     "iopub.status.busy": "2025-01-27T16:29:23.218633Z",
     "iopub.status.idle": "2025-01-27T16:29:23.229862Z",
     "shell.execute_reply": "2025-01-27T16:29:23.228912Z"
    },
    "papermill": {
     "duration": 0.020585,
     "end_time": "2025-01-27T16:29:23.232012",
     "exception": false,
     "start_time": "2025-01-27T16:29:23.211427",
     "status": "completed"
    },
    "tags": []
   },
   "outputs": [],
   "source": [
    "cat_matrix = data.pivot_table(\n",
    "    index='CustomerID',\n",
    "    columns='Category',\n",
    "    values='TotalValue',\n",
    "    aggfunc='sum',\n",
    "    fill_value=0\n",
    ")"
   ]
  },
  {
   "cell_type": "markdown",
   "id": "1b5afa62",
   "metadata": {
    "papermill": {
     "duration": 0.006145,
     "end_time": "2025-01-27T16:29:23.244958",
     "exception": false,
     "start_time": "2025-01-27T16:29:23.238813",
     "status": "completed"
    },
    "tags": []
   },
   "source": [
    "# SVD decomposition\n"
   ]
  },
  {
   "cell_type": "code",
   "execution_count": 11,
   "id": "882e59ef",
   "metadata": {
    "execution": {
     "iopub.execute_input": "2025-01-27T16:29:23.259036Z",
     "iopub.status.busy": "2025-01-27T16:29:23.258678Z",
     "iopub.status.idle": "2025-01-27T16:29:23.263635Z",
     "shell.execute_reply": "2025-01-27T16:29:23.262550Z"
    },
    "papermill": {
     "duration": 0.013978,
     "end_time": "2025-01-27T16:29:23.265346",
     "exception": false,
     "start_time": "2025-01-27T16:29:23.251368",
     "status": "completed"
    },
    "tags": []
   },
   "outputs": [],
   "source": [
    "n_components_value = min(20, value_matrix.shape[1] - 1)\n",
    "n_components_freq = min(20, freq_matrix.shape[1] - 1)\n",
    "n_components_cat = min(3, cat_matrix.shape[1] - 1)"
   ]
  },
  {
   "cell_type": "code",
   "execution_count": 12,
   "id": "1c6a7bf5",
   "metadata": {
    "execution": {
     "iopub.execute_input": "2025-01-27T16:29:23.279508Z",
     "iopub.status.busy": "2025-01-27T16:29:23.279115Z",
     "iopub.status.idle": "2025-01-27T16:29:23.284291Z",
     "shell.execute_reply": "2025-01-27T16:29:23.283111Z"
    },
    "papermill": {
     "duration": 0.014311,
     "end_time": "2025-01-27T16:29:23.286182",
     "exception": false,
     "start_time": "2025-01-27T16:29:23.271871",
     "status": "completed"
    },
    "tags": []
   },
   "outputs": [],
   "source": [
    "svd_value = TruncatedSVD(n_components=n_components_value, random_state=42)\n",
    "svd_freq = TruncatedSVD(n_components=n_components_freq, random_state=42)\n",
    "svd_cat = TruncatedSVD(n_components=n_components_cat, random_state=42)"
   ]
  },
  {
   "cell_type": "code",
   "execution_count": 13,
   "id": "f6cfa18d",
   "metadata": {
    "execution": {
     "iopub.execute_input": "2025-01-27T16:29:23.300367Z",
     "iopub.status.busy": "2025-01-27T16:29:23.299999Z",
     "iopub.status.idle": "2025-01-27T16:29:23.401583Z",
     "shell.execute_reply": "2025-01-27T16:29:23.400504Z"
    },
    "papermill": {
     "duration": 0.111071,
     "end_time": "2025-01-27T16:29:23.403704",
     "exception": false,
     "start_time": "2025-01-27T16:29:23.292633",
     "status": "completed"
    },
    "tags": []
   },
   "outputs": [],
   "source": [
    "latent_value = svd_value.fit_transform(value_matrix)\n",
    "latent_freq = svd_freq.fit_transform(freq_matrix)\n",
    "latent_cat = svd_cat.fit_transform(cat_matrix)"
   ]
  },
  {
   "cell_type": "markdown",
   "id": "3999a072",
   "metadata": {
    "papermill": {
     "duration": 0.005843,
     "end_time": "2025-01-27T16:29:23.416061",
     "exception": false,
     "start_time": "2025-01-27T16:29:23.410218",
     "status": "completed"
    },
    "tags": []
   },
   "source": [
    "# Scale features"
   ]
  },
  {
   "cell_type": "code",
   "execution_count": 14,
   "id": "63c7f8a0",
   "metadata": {
    "execution": {
     "iopub.execute_input": "2025-01-27T16:29:23.429702Z",
     "iopub.status.busy": "2025-01-27T16:29:23.429261Z",
     "iopub.status.idle": "2025-01-27T16:29:23.437957Z",
     "shell.execute_reply": "2025-01-27T16:29:23.436975Z"
    },
    "papermill": {
     "duration": 0.017731,
     "end_time": "2025-01-27T16:29:23.439877",
     "exception": false,
     "start_time": "2025-01-27T16:29:23.422146",
     "status": "completed"
    },
    "tags": []
   },
   "outputs": [],
   "source": [
    "scaler = StandardScaler()\n",
    "scaled_features = scaler.fit_transform(customer_features)"
   ]
  },
  {
   "cell_type": "markdown",
   "id": "fc1ee29e",
   "metadata": {
    "papermill": {
     "duration": 0.005927,
     "end_time": "2025-01-27T16:29:23.452178",
     "exception": false,
     "start_time": "2025-01-27T16:29:23.446251",
     "status": "completed"
    },
    "tags": []
   },
   "source": [
    "# Calculate similarities"
   ]
  },
  {
   "cell_type": "code",
   "execution_count": 15,
   "id": "6a44a27a",
   "metadata": {
    "execution": {
     "iopub.execute_input": "2025-01-27T16:29:23.466128Z",
     "iopub.status.busy": "2025-01-27T16:29:23.465776Z",
     "iopub.status.idle": "2025-01-27T16:29:23.473832Z",
     "shell.execute_reply": "2025-01-27T16:29:23.472593Z"
    },
    "papermill": {
     "duration": 0.017247,
     "end_time": "2025-01-27T16:29:23.475846",
     "exception": false,
     "start_time": "2025-01-27T16:29:23.458599",
     "status": "completed"
    },
    "tags": []
   },
   "outputs": [],
   "source": [
    "sim_value = cosine_similarity(latent_value)\n",
    "sim_freq = cosine_similarity(latent_freq)\n",
    "sim_cat = cosine_similarity(latent_cat)\n",
    "sim_features = cosine_similarity(scaled_features)"
   ]
  },
  {
   "cell_type": "code",
   "execution_count": 16,
   "id": "62a13fc7",
   "metadata": {
    "execution": {
     "iopub.execute_input": "2025-01-27T16:29:23.490001Z",
     "iopub.status.busy": "2025-01-27T16:29:23.489631Z",
     "iopub.status.idle": "2025-01-27T16:29:23.499443Z",
     "shell.execute_reply": "2025-01-27T16:29:23.498187Z"
    },
    "papermill": {
     "duration": 0.01925,
     "end_time": "2025-01-27T16:29:23.501485",
     "exception": false,
     "start_time": "2025-01-27T16:29:23.482235",
     "status": "completed"
    },
    "tags": []
   },
   "outputs": [],
   "source": [
    "# Combine similarities with weights\n",
    "weights = np.array([0.35, 0.25, 0.25, 0.15])\n",
    "similarity = (weights[0] * sim_value + \n",
    "             weights[1] * sim_freq + \n",
    "             weights[2] * sim_cat + \n",
    "             weights[3] * sim_features)"
   ]
  },
  {
   "cell_type": "markdown",
   "id": "6a87ab82",
   "metadata": {
    "papermill": {
     "duration": 0.005908,
     "end_time": "2025-01-27T16:29:23.514358",
     "exception": false,
     "start_time": "2025-01-27T16:29:23.508450",
     "status": "completed"
    },
    "tags": []
   },
   "source": [
    "# Generate recommendations\n"
   ]
  },
  {
   "cell_type": "code",
   "execution_count": 17,
   "id": "cf45476f",
   "metadata": {
    "execution": {
     "iopub.execute_input": "2025-01-27T16:29:23.528036Z",
     "iopub.status.busy": "2025-01-27T16:29:23.527668Z",
     "iopub.status.idle": "2025-01-27T16:29:23.534587Z",
     "shell.execute_reply": "2025-01-27T16:29:23.533606Z"
    },
    "papermill": {
     "duration": 0.015707,
     "end_time": "2025-01-27T16:29:23.536366",
     "exception": false,
     "start_time": "2025-01-27T16:29:23.520659",
     "status": "completed"
    },
    "tags": []
   },
   "outputs": [],
   "source": [
    "results = {}\n",
    "for i, customer_id in enumerate(value_matrix.index[:20]):\n",
    "    scores = np.argsort(similarity[i])[::-1]\n",
    "    similar_customers = [\n",
    "        (value_matrix.index[j], round(similarity[i, j], 4))\n",
    "        for j in scores[1:4]\n",
    "    ]\n",
    "    results[customer_id] = similar_customers"
   ]
  },
  {
   "cell_type": "markdown",
   "id": "ce8dfb01",
   "metadata": {
    "papermill": {
     "duration": 0.005956,
     "end_time": "2025-01-27T16:29:23.548714",
     "exception": false,
     "start_time": "2025-01-27T16:29:23.542758",
     "status": "completed"
    },
    "tags": []
   },
   "source": [
    "# Save results"
   ]
  },
  {
   "cell_type": "code",
   "execution_count": 18,
   "id": "70130009",
   "metadata": {
    "execution": {
     "iopub.execute_input": "2025-01-27T16:29:23.562183Z",
     "iopub.status.busy": "2025-01-27T16:29:23.561768Z",
     "iopub.status.idle": "2025-01-27T16:29:23.573610Z",
     "shell.execute_reply": "2025-01-27T16:29:23.572471Z"
    },
    "papermill": {
     "duration": 0.020742,
     "end_time": "2025-01-27T16:29:23.575541",
     "exception": false,
     "start_time": "2025-01-27T16:29:23.554799",
     "status": "completed"
    },
    "tags": []
   },
   "outputs": [],
   "source": [
    "output_df = pd.DataFrame({'CustomerID': list(results.keys()),'Lookalikes': [str(v) for v in results.values()]})\n",
    "output_df.to_csv('FirstName_LastName_Lookalike.csv', index=False)"
   ]
  },
  {
   "cell_type": "code",
   "execution_count": 19,
   "id": "6c93f819",
   "metadata": {
    "execution": {
     "iopub.execute_input": "2025-01-27T16:29:23.589571Z",
     "iopub.status.busy": "2025-01-27T16:29:23.589176Z",
     "iopub.status.idle": "2025-01-27T16:29:23.608069Z",
     "shell.execute_reply": "2025-01-27T16:29:23.606674Z"
    },
    "papermill": {
     "duration": 0.028549,
     "end_time": "2025-01-27T16:29:23.610622",
     "exception": false,
     "start_time": "2025-01-27T16:29:23.582073",
     "status": "completed"
    },
    "tags": []
   },
   "outputs": [
    {
     "name": "stdout",
     "output_type": "stream",
     "text": [
      "\n",
      "Customer C0001:\n",
      "  Similar customer: C0069, Score: 0.6895\n",
      "  Similar customer: C0105, Score: 0.6723\n",
      "  Similar customer: C0050, Score: 0.6069\n",
      "\n",
      "Customer C0002:\n",
      "  Similar customer: C0109, Score: 0.7196\n",
      "  Similar customer: C0076, Score: 0.6866\n",
      "  Similar customer: C0178, Score: 0.6692\n",
      "\n",
      "Customer C0003:\n",
      "  Similar customer: C0031, Score: 0.6686\n",
      "  Similar customer: C0144, Score: 0.6324\n",
      "  Similar customer: C0181, Score: 0.623\n",
      "\n",
      "Customer C0004:\n",
      "  Similar customer: C0075, Score: 0.7101\n",
      "  Similar customer: C0041, Score: 0.6577\n",
      "  Similar customer: C0053, Score: 0.6542\n",
      "\n",
      "Customer C0005:\n",
      "  Similar customer: C0192, Score: 0.837\n",
      "  Similar customer: C0088, Score: 0.768\n",
      "  Similar customer: C0072, Score: 0.7376\n",
      "\n",
      "Customer C0006:\n",
      "  Similar customer: C0040, Score: 0.7667\n",
      "  Similar customer: C0182, Score: 0.7275\n",
      "  Similar customer: C0057, Score: 0.6157\n",
      "\n",
      "Customer C0007:\n",
      "  Similar customer: C0020, Score: 0.7289\n",
      "  Similar customer: C0140, Score: 0.7138\n",
      "  Similar customer: C0085, Score: 0.6769\n",
      "\n",
      "Customer C0008:\n",
      "  Similar customer: C0143, Score: 0.7222\n",
      "  Similar customer: C0103, Score: 0.6409\n",
      "  Similar customer: C0059, Score: 0.5811\n",
      "\n",
      "Customer C0009:\n",
      "  Similar customer: C0129, Score: 0.7145\n",
      "  Similar customer: C0062, Score: 0.714\n",
      "  Similar customer: C0098, Score: 0.7104\n",
      "\n",
      "Customer C0010:\n",
      "  Similar customer: C0029, Score: 0.781\n",
      "  Similar customer: C0092, Score: 0.7242\n",
      "  Similar customer: C0083, Score: 0.7087\n",
      "\n",
      "Customer C0011:\n",
      "  Similar customer: C0169, Score: 0.7485\n",
      "  Similar customer: C0137, Score: 0.7136\n",
      "  Similar customer: C0136, Score: 0.7025\n",
      "\n",
      "Customer C0012:\n",
      "  Similar customer: C0173, Score: 0.7622\n",
      "  Similar customer: C0091, Score: 0.7112\n",
      "  Similar customer: C0164, Score: 0.6804\n",
      "\n",
      "Customer C0013:\n",
      "  Similar customer: C0169, Score: 0.7145\n",
      "  Similar customer: C0046, Score: 0.6915\n",
      "  Similar customer: C0067, Score: 0.6195\n",
      "\n",
      "Customer C0014:\n",
      "  Similar customer: C0106, Score: 0.778\n",
      "  Similar customer: C0128, Score: 0.6697\n",
      "  Similar customer: C0195, Score: 0.6281\n",
      "\n",
      "Customer C0015:\n",
      "  Similar customer: C0127, Score: 0.6138\n",
      "  Similar customer: C0146, Score: 0.5993\n",
      "  Similar customer: C0121, Score: 0.5902\n",
      "\n",
      "Customer C0016:\n",
      "  Similar customer: C0187, Score: 0.678\n",
      "  Similar customer: C0052, Score: 0.6196\n",
      "  Similar customer: C0064, Score: 0.5762\n",
      "\n",
      "Customer C0017:\n",
      "  Similar customer: C0028, Score: 0.6696\n",
      "  Similar customer: C0024, Score: 0.6412\n",
      "  Similar customer: C0087, Score: 0.6321\n",
      "\n",
      "Customer C0018:\n",
      "  Similar customer: C0026, Score: 0.609\n",
      "  Similar customer: C0114, Score: 0.5633\n",
      "  Similar customer: C0163, Score: 0.5548\n",
      "\n",
      "Customer C0019:\n",
      "  Similar customer: C0139, Score: 0.6113\n",
      "  Similar customer: C0084, Score: 0.5723\n",
      "  Similar customer: C0064, Score: 0.5593\n",
      "\n",
      "Customer C0020:\n",
      "  Similar customer: C0026, Score: 0.8044\n",
      "  Similar customer: C0007, Score: 0.7289\n",
      "  Similar customer: C0119, Score: 0.639\n"
     ]
    }
   ],
   "source": [
    "for cust_id, lookalikes in list(results.items())[:]:\n",
    "    print(f\"\\nCustomer {cust_id}:\")\n",
    "    for similar_cust, score in lookalikes:\n",
    "        print(f\"  Similar customer: {similar_cust}, Score: {score}\")"
   ]
  },
  {
   "cell_type": "code",
   "execution_count": null,
   "id": "7e0f4136",
   "metadata": {
    "papermill": {
     "duration": 0.006402,
     "end_time": "2025-01-27T16:29:23.623713",
     "exception": false,
     "start_time": "2025-01-27T16:29:23.617311",
     "status": "completed"
    },
    "tags": []
   },
   "outputs": [],
   "source": []
  }
 ],
 "metadata": {
  "kaggle": {
   "accelerator": "none",
   "dataSources": [
    {
     "datasetId": 6557486,
     "sourceId": 10594673,
     "sourceType": "datasetVersion"
    }
   ],
   "dockerImageVersionId": 30839,
   "isGpuEnabled": false,
   "isInternetEnabled": true,
   "language": "python",
   "sourceType": "notebook"
  },
  "kernelspec": {
   "display_name": "Python 3",
   "language": "python",
   "name": "python3"
  },
  "language_info": {
   "codemirror_mode": {
    "name": "ipython",
    "version": 3
   },
   "file_extension": ".py",
   "mimetype": "text/x-python",
   "name": "python",
   "nbconvert_exporter": "python",
   "pygments_lexer": "ipython3",
   "version": "3.10.12"
  },
  "papermill": {
   "default_parameters": {},
   "duration": 8.181162,
   "end_time": "2025-01-27T16:29:24.249649",
   "environment_variables": {},
   "exception": null,
   "input_path": "__notebook__.ipynb",
   "output_path": "__notebook__.ipynb",
   "parameters": {},
   "start_time": "2025-01-27T16:29:16.068487",
   "version": "2.6.0"
  }
 },
 "nbformat": 4,
 "nbformat_minor": 5
}
